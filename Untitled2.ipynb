{
  "nbformat": 4,
  "nbformat_minor": 0,
  "metadata": {
    "colab": {
      "name": "Untitled2.ipynb",
      "provenance": [],
      "collapsed_sections": [],
      "toc_visible": true
    },
    "kernelspec": {
      "name": "python3",
      "display_name": "Python 3"
    },
    "language_info": {
      "name": "python"
    }
  },
  "cells": [
    {
      "cell_type": "code",
      "source": [
        "x,y=10,5\n",
        "print(\"Addition=\",x+y)\n",
        "print(\"Subtration=\",x-y)\n",
        "print(\"Multiplication=\",x*y)\n",
        "print(\"Division=\",x/y)\n",
        "print(\"Power=\",x**y)\n",
        "print(\"Modulus=\",x%y)\n",
        "print(\"Floor division=\",x//y)\n",
        "print(\"sqrt=\",y)\n",
        "\n"
      ],
      "metadata": {
        "colab": {
          "base_uri": "https://localhost:8080/"
        },
        "id": "Vf8uIa76AqiK",
        "outputId": "9effc85e-6b1d-444f-ec61-440c31f5df36"
      },
      "execution_count": 3,
      "outputs": [
        {
          "output_type": "stream",
          "name": "stdout",
          "text": [
            "Addition= 15\n",
            "Subtration= 5\n",
            "Multiplication= 50\n",
            "Division= 2.0\n",
            "Power= 100000\n",
            "Modulus= 0\n",
            "Floor division= 2\n"
          ]
        }
      ]
    }
  ]
}